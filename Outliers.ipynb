{
  "nbformat": 4,
  "nbformat_minor": 0,
  "metadata": {
    "colab": {
      "provenance": [],
      "authorship_tag": "ABX9TyP8gCnVEWYHv9ZwcmLZweWj",
      "include_colab_link": true
    },
    "kernelspec": {
      "name": "python3",
      "display_name": "Python 3"
    },
    "language_info": {
      "name": "python"
    }
  },
  "cells": [
    {
      "cell_type": "markdown",
      "metadata": {
        "id": "view-in-github",
        "colab_type": "text"
      },
      "source": [
        "<a href=\"https://colab.research.google.com/github/medhhaa/Statistics/blob/main/Outliers.ipynb\" target=\"_parent\"><img src=\"https://colab.research.google.com/assets/colab-badge.svg\" alt=\"Open In Colab\"/></a>"
      ]
    },
    {
      "cell_type": "code",
      "execution_count": null,
      "metadata": {
        "id": "QXJ9EPqhIV5S"
      },
      "outputs": [],
      "source": [
        "# import libraries\n",
        "import numpy as np\n",
        "import matplotlib.pyplot as plt\n",
        "%matplotlib inline\n",
        "import seaborn as sns"
      ]
    },
    {
      "cell_type": "markdown",
      "source": [
        "## Loading and Exploring Data:"
      ],
      "metadata": {
        "id": "JFHPYd9uQeYf"
      }
    },
    {
      "cell_type": "code",
      "source": [
        "# Dataset\n",
        "dataset = [10, 12, 14, 11, 13, 9, 8, 7, 13, 14, 8, 14, 7, 12, 6, 16, 14, 13, 15, 11, 12, 9, 10, 9, 12, 14, 108, 14, 13, 15, 10, 14, 13, 11, 14, 14, 10, 101]\n",
        "len(dataset)"
      ],
      "metadata": {
        "colab": {
          "base_uri": "https://localhost:8080/"
        },
        "id": "nQIdjXlUKqYr",
        "outputId": "5360fb58-bb1c-4c6c-9df1-e5429e018e2e"
      },
      "execution_count": null,
      "outputs": [
        {
          "output_type": "execute_result",
          "data": {
            "text/plain": [
              "38"
            ]
          },
          "metadata": {},
          "execution_count": 10
        }
      ]
    },
    {
      "cell_type": "code",
      "source": [
        "# Histogram also helps you identify outliers while visaulizing the data points:\n",
        "plt.hist(dataset)"
      ],
      "metadata": {
        "colab": {
          "base_uri": "https://localhost:8080/",
          "height": 499
        },
        "id": "jnfXYByOLdtq",
        "outputId": "76c17b0d-cf65-4938-e04c-c71c780a0ac8"
      },
      "execution_count": null,
      "outputs": [
        {
          "output_type": "execute_result",
          "data": {
            "text/plain": [
              "(array([36.,  0.,  0.,  0.,  0.,  0.,  0.,  0.,  0.,  2.]),\n",
              " array([  6. ,  16.2,  26.4,  36.6,  46.8,  57. ,  67.2,  77.4,  87.6,\n",
              "         97.8, 108. ]),\n",
              " <BarContainer object of 10 artists>)"
            ]
          },
          "metadata": {},
          "execution_count": 11
        },
        {
          "output_type": "display_data",
          "data": {
            "text/plain": [
              "<Figure size 640x480 with 1 Axes>"
            ],
            "image/png": "[encoded data removed]"
          },
          "metadata": {}
        }
      ]
    },
    {
      "cell_type": "markdown",
      "source": [
        "## Z Score"
      ],
      "metadata": {
        "id": "XPuZCFZ2QcJl"
      }
    },
    {
      "cell_type": "code",
      "source": [
        "# Z Score\n",
        "# z score = Xi - Mean / Standard Deviation\n",
        "outliers = []\n",
        "# a function to detect outliers:\n",
        "def detect_outliers(data):\n",
        "    # If the point lies outside of the third standard deviation, it is an outlier.\n",
        "    threshold = 3 # according to 3rd standard deviation\n",
        "    mean = np.mean(data)\n",
        "    std = np.std(data)\n",
        "    print(f'Mean: {mean:.2f} Std Dev: {std:.2f}')\n",
        "    for i in data:\n",
        "        z_score = (i - mean)/std\n",
        "        if np.abs(z_score) > threshold:\n",
        "            outliers.append(i)\n",
        "    return outliers\n",
        "\n",
        "detect_outliers(dataset)"
      ],
      "metadata": {
        "colab": {
          "base_uri": "https://localhost:8080/"
        },
        "id": "YOprjw6bL_cw",
        "outputId": "7daccdf8-a793-4a59-d032-a09f5da46cab"
      },
      "execution_count": null,
      "outputs": [
        {
          "output_type": "stream",
          "name": "stdout",
          "text": [
            "Mean: 16.58 Std Dev: 20.89\n"
          ]
        },
        {
          "output_type": "execute_result",
          "data": {
            "text/plain": [
              "[108, 101]"
            ]
          },
          "metadata": {},
          "execution_count": 14
        }
      ]
    },
    {
      "cell_type": "markdown",
      "source": [
        "## IQR (Inter Quartile Range):\n",
        "Five Number Summary\n",
        "1. Sort the data\n",
        "2. Calculate Q1 (25%) and Q3 (75%)\n",
        "3. IQR (Q3 - Q1)\n",
        "4. Find the lower bound Q1 - 1.5(IQR)\n",
        "5. Find the upper bound Q3 + 1.5(IQR)\n",
        "\n",
        "\n"
      ],
      "metadata": {
        "id": "9J664tgdNe_m"
      }
    },
    {
      "cell_type": "code",
      "source": [
        "# 1. Sort the data\n",
        "dataset = sorted(dataset)\n",
        "print(dataset)"
      ],
      "metadata": {
        "colab": {
          "base_uri": "https://localhost:8080/"
        },
        "id": "vb4TxR1NORaf",
        "outputId": "67ff8395-3d1a-4707-bc6b-6f18103f6273"
      },
      "execution_count": null,
      "outputs": [
        {
          "output_type": "stream",
          "name": "stdout",
          "text": [
            "[6, 7, 7, 8, 8, 9, 9, 9, 10, 10, 10, 10, 11, 11, 11, 12, 12, 12, 12, 13, 13, 13, 13, 13, 14, 14, 14, 14, 14, 14, 14, 14, 14, 15, 15, 16, 101, 108]\n"
          ]
        }
      ]
    },
    {
      "cell_type": "code",
      "source": [
        "# 2. Calulcate percentiles Q1 and Q2\n",
        "q1, q3 = np.percentile(dataset, [25, 75])\n",
        "print(q1, q3)"
      ],
      "metadata": {
        "colab": {
          "base_uri": "https://localhost:8080/"
        },
        "id": "E-LaMN-qOaSa",
        "outputId": "855d3631-5560-4812-9589-2aeb7a312977"
      },
      "execution_count": null,
      "outputs": [
        {
          "output_type": "stream",
          "name": "stdout",
          "text": [
            "10.0 14.0\n"
          ]
        }
      ]
    },
    {
      "cell_type": "code",
      "source": [
        "# 3. Calculate IQR\n",
        "iqr = q3 - q1\n",
        "print(iqr)"
      ],
      "metadata": {
        "colab": {
          "base_uri": "https://localhost:8080/"
        },
        "id": "ohH0ZXFcOwjo",
        "outputId": "4fd4fbb5-0677-4452-fea7-68a7011db775"
      },
      "execution_count": null,
      "outputs": [
        {
          "output_type": "stream",
          "name": "stdout",
          "text": [
            "4.0\n"
          ]
        }
      ]
    },
    {
      "cell_type": "code",
      "source": [
        "# 4. Lower Bound\n",
        "lb = q1 - (1.5 * iqr)\n",
        "\n",
        "#5. Upper Bound\n",
        "ub = q3 + (1.5 * iqr)\n",
        "\n",
        "# This is the range between which our data distribution lies.\n",
        "# Outliers are the numbers outside of this range\n",
        "print(lb, ub)"
      ],
      "metadata": {
        "colab": {
          "base_uri": "https://localhost:8080/"
        },
        "id": "lXsXZfMbOzAq",
        "outputId": "dadc29ed-ce2b-46ce-bcba-8ac0de3224c0"
      },
      "execution_count": null,
      "outputs": [
        {
          "output_type": "stream",
          "name": "stdout",
          "text": [
            "4.0 20.0\n"
          ]
        }
      ]
    },
    {
      "cell_type": "code",
      "source": [
        "# Find out outliers\n",
        "outliers = []\n",
        "for x in dataset:\n",
        "    if x < lb or x > ub:\n",
        "        outliers.append(x)\n",
        "print(outliers)"
      ],
      "metadata": {
        "colab": {
          "base_uri": "https://localhost:8080/"
        },
        "id": "rxzBNhQlPb6r",
        "outputId": "c1a499f9-1e35-4182-8648-81f0b0164e22"
      },
      "execution_count": null,
      "outputs": [
        {
          "output_type": "stream",
          "name": "stdout",
          "text": [
            "[101, 108]\n"
          ]
        }
      ]
    },
    {
      "cell_type": "markdown",
      "source": [
        "## Boxplot"
      ],
      "metadata": {
        "id": "GFyJN7GKQOtk"
      }
    },
    {
      "cell_type": "code",
      "source": [
        "sns.boxplot(x = dataset)"
      ],
      "metadata": {
        "colab": {
          "base_uri": "https://localhost:8080/",
          "height": 447
        },
        "id": "txw5v7RJP1aA",
        "outputId": "5b63c601-ddcb-472e-8171-4ec7c1916d1b"
      },
      "execution_count": null,
      "outputs": [
        {
          "output_type": "execute_result",
          "data": {
            "text/plain": [
              "<Axes: >"
            ]
          },
          "metadata": {},
          "execution_count": 27
        },
        {
          "output_type": "display_data",
          "data": {
            "text/plain": [
              "<Figure size 640x480 with 1 Axes>"
            ],
            "image/png": "[encoded data removed]"
          },
          "metadata": {}
        }
      ]
    },
    {
      "cell_type": "markdown",
      "source": [
        "There are two outlier points that can be identified via the boxplot."
      ],
      "metadata": {
        "id": "XkU2dXmsQRBP"
      }
    }
  ]
}